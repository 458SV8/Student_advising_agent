{
 "cells": [
  {
   "cell_type": "code",
   "execution_count": 1,
   "id": "a8c9ba2e",
   "metadata": {},
   "outputs": [
    {
     "name": "stdout",
     "output_type": "stream",
     "text": [
      "Extracted 87 chunks with metadata\n"
     ]
    }
   ],
   "source": [
    "from PyPDF2 import PdfReader\n",
    "\n",
    "def extract_handbook_chunks(pdf_path, chunk_size=800, overlap=100):\n",
    "    reader = PdfReader(pdf_path)\n",
    "    text = \"\\n\".join(page.extract_text() for page in reader.pages)\n",
    "\n",
    "   \n",
    "    sections = [\n",
    "        \"PROGRAM OVERVIEW\",\n",
    "        \"PROGRAM ADMISSION INFORMATION\",\n",
    "        \"ELIGIBILITY\",\n",
    "        \"APPLICATION\",\n",
    "        \"PROGRAM REQUIREMENTS\",\n",
    "        \"COMMON CORE COURSES\",\n",
    "        \"CONCENTRATION\",\n",
    "        \"CPT\",\n",
    "        \"OPT\",\n",
    "        \"THESIS\",\n",
    "        \"CAPSTONE\",\n",
    "        \"ACADEMIC PROBATION\",\n",
    "        \"LEAVE OF ABSENCE\",\n",
    "        \"FINANCIAL ASSISTANCE\",\n",
    "        \"RESOURCES\",\n",
    "    ]\n",
    "\n",
    "    chunks, metadata = [], []\n",
    "    current_section = \"General\"\n",
    "\n",
    "    for line in text.split(\"\\n\"):\n",
    "        if any(sec in line.upper() for sec in sections):\n",
    "            current_section = line.strip()\n",
    "        if len(chunks) == 0 or len(chunks[-1]) > chunk_size:\n",
    "            chunks.append(line)\n",
    "            metadata.append({\"section\": current_section})\n",
    "        else:\n",
    "            chunks[-1] += \" \" + line\n",
    "    return chunks, metadata\n",
    "\n",
    "\n",
    "chunks, metadata = extract_handbook_chunks(\"2025-2026-DSAE-MS-Handbook.pdf\")\n",
    "print(f\"Extracted {len(chunks)} chunks with metadata\")\n"
   ]
  },
  {
   "cell_type": "code",
   "execution_count": 2,
   "id": "f4700981",
   "metadata": {},
   "outputs": [
    {
     "name": "stdout",
     "output_type": "stream",
     "text": [
      "DSAE Handbook indexed in ChromaDB\n"
     ]
    }
   ],
   "source": [
    "import chromadb\n",
    "from sentence_transformers import SentenceTransformer\n",
    "\n",
    "client = chromadb.Client()\n",
    "collection = client.create_collection(\"ds_handbook\")\n",
    "\n",
    "embedder = SentenceTransformer(\"all-MiniLM-L6-v2\")\n",
    "\n",
    "embeddings = embedder.encode(chunks).tolist()\n",
    "collection.add(\n",
    "    documents=chunks,\n",
    "    embeddings=embeddings,\n",
    "    metadatas=metadata,\n",
    "    ids=[f\"chunk_{i}\" for i in range(len(chunks))]\n",
    ")\n",
    "\n",
    "print(\"DSAE Handbook indexed in ChromaDB\")\n"
   ]
  },
  {
   "cell_type": "code",
   "execution_count": 3,
   "id": "1c09a07b",
   "metadata": {},
   "outputs": [],
   "source": [
    "from rank_bm25 import BM25Okapi\n",
    "\n",
    "tokenized_corpus = [c.split(\" \") for c in chunks]\n",
    "bm25 = BM25Okapi(tokenized_corpus)\n",
    "\n",
    "def hybrid_retrieve(query, top_k=3):\n",
    "    q_emb = embedder.encode([query]).tolist()\n",
    "    dense_results = collection.query(query_embeddings=q_emb, n_results=top_k)\n",
    "\n",
    "    bm25_scores = bm25.get_scores(query.split(\" \"))\n",
    "    bm25_top = sorted(list(enumerate(bm25_scores)), key=lambda x: x[1], reverse=True)[:top_k]\n",
    "    bm25_docs = [chunks[idx] for idx, _ in bm25_top]\n",
    "\n",
    "    docs = list(set(dense_results[\"documents\"][0] + bm25_docs))\n",
    "    return docs\n"
   ]
  },
  {
   "cell_type": "code",
   "execution_count": 4,
   "id": "191b6046",
   "metadata": {},
   "outputs": [],
   "source": [
    "import ollama\n",
    "\n",
    "MODEL_NAME = \"llama3.1\"    #\"mistral\", \"phi3\", \"gemma2:9b\", \"llama3.1\"\n",
    "\n",
    "def llama_answer(query, context):\n",
    "    prompt = f\"You are an ASU academic advising assistant.Use ONLY the context below to answer student questions related to academics, courses, or policies.If the context does not contain an answer\\n\\nContext:\\n{context}\\n\\nQuestion: {query}\\nAnswer:\"\n",
    "    response = ollama.chat(model=MODEL_NAME, messages=[{\"role\": \"user\", \"content\": prompt}])\n",
    "    return response[\"message\"][\"content\"]\n"
   ]
  },
  {
   "cell_type": "code",
   "execution_count": 5,
   "id": "0e837b5c",
   "metadata": {},
   "outputs": [],
   "source": [
    "def rag_chat(query):\n",
    "    docs = hybrid_retrieve(query)\n",
    "    context = \"\\n\\n\".join(docs)\n",
    "    answer = llama_answer(query, context)\n",
    "    print(\"Context Used:\\n\", context[:600], \"...\\n\")\n",
    "    print(\"Answer:\\n\", answer)\n"
   ]
  },
  {
   "cell_type": "code",
   "execution_count": 7,
   "id": "3110ef7c",
   "metadata": {},
   "outputs": [
    {
     "name": "stdout",
     "output_type": "stream",
     "text": [
      "Context Used:\n",
      " as   a   Job   Seeker ”   to   become   familiar   with   Principles   for   Professional   Practice.   Students   who   accept   an   offer   from   an   organization   and   later   renege   the   offer   will   be   prohibited   from   requesting   future   internship   opportunities   pending   a   meeting   with   the   Assistant   Director.   Required   report   A   two-page   typed   minimum   final   report   is   required   before   a   grade   and   credit   is   given.    The   final   report   must   be   submitted   to   the   internship   supervisor   for   comments   and   then  ...\n",
      "\n",
      "Answer:\n",
      " No, you cannot start working until the summer semester officially starts (1st day of classes). Exceptions are given to students who provide proper justification from the company supporting this request.\n"
     ]
    }
   ],
   "source": [
    "rag_chat(\"I have an internship offer for next summer, but the company wants me to start working right now. Can I do it ?\")"
   ]
  },
  {
   "cell_type": "code",
   "execution_count": 8,
   "id": "a03d7786",
   "metadata": {},
   "outputs": [],
   "source": [
    "# Notice that the agent is offering real advising guidance. It's not just quoting text.\n",
    "# It understands the situation described in the question, retrieves the relevant policy,\n",
    "# and then applies that policy to provide a clear and actionable answer.\n",
    "\n",
    "# Because it is trained on the actual ASU student handbook, the guidance it provides\n",
    "# is accurate and aligned with university policy — making it significantly more useful\n",
    "# than a standard FAQ chatbot.\n",
    "\n",
    "\n",
    "# At this stage, the system works in a single-turn setting (ask → retrieve → answer).\n",
    "# A more advanced version is in development where I will add conversational memory,\n",
    "# allowing follow-up questions and continuous advising sessions across multiple turns.\n"
   ]
  }
 ],
 "metadata": {
  "kernelspec": {
   "display_name": "base",
   "language": "python",
   "name": "python3"
  },
  "language_info": {
   "codemirror_mode": {
    "name": "ipython",
    "version": 3
   },
   "file_extension": ".py",
   "mimetype": "text/x-python",
   "name": "python",
   "nbconvert_exporter": "python",
   "pygments_lexer": "ipython3",
   "version": "3.9.13"
  }
 },
 "nbformat": 4,
 "nbformat_minor": 5
}
